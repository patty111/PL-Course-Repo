{
 "cells": [
  {
   "cell_type": "markdown",
   "metadata": {},
   "source": [
    "## NLP based on Lord of the Rings Trilogy"
   ]
  },
  {
   "cell_type": "markdown",
   "metadata": {},
   "source": [
    "#### Preface\n",
    "I have always been a huge fan of LOTR trilogy. This research will try to analyse umspoken secrets hidden under Tolkein's words.  \n",
    "\n",
    "The dataset I use comes from this repo: https://github.com/wess/iotr"
   ]
  },
  {
   "cell_type": "code",
   "execution_count": 1,
   "metadata": {},
   "outputs": [],
   "source": [
    "with open('lotr.txt', 'r') as f:\n",
    "    content = f.read()\n",
    "content = content.split('* BOOK')\n",
    "EP1 = content[0] + content[1] # The Fellowship of the Ring\n",
    "EP2 = content[2] + content[3] # The Two Towers\n",
    "EP3 = content[4] + content[5] # The Return of the King\n"
   ]
  },
  {
   "cell_type": "code",
   "execution_count": 9,
   "metadata": {},
   "outputs": [
    {
     "name": "stderr",
     "output_type": "stream",
     "text": [
      "[nltk_data] Downloading package punkt to /Users/pat/nltk_data...\n",
      "[nltk_data]   Unzipping tokenizers/punkt.zip.\n",
      "[nltk_data] Downloading package stopwords to /Users/pat/nltk_data...\n",
      "[nltk_data]   Package stopwords is already up-to-date!\n"
     ]
    },
    {
     "name": "stdout",
     "output_type": "stream",
     "text": [
      "bilbo;777\n",
      "frodo;636\n",
      "long;454\n",
      "time;377\n",
      "gandalf;371\n",
      "great;335\n",
      "away;333\n",
      "old;330\n",
      "far;329\n",
      "last;320\n",
      "dwarves;320\n",
      "way;294\n",
      "good;290\n",
      "dark;290\n",
      "little;277\n",
      "seemed;269\n",
      "know;267\n",
      "thorin;251\n",
      "hobbits;248\n",
      "ring;242\n",
      "end;242\n",
      "thought;241\n",
      "light;235\n",
      "made;233\n",
      "soon;228\n",
      "behind;214\n",
      "left;213\n",
      "found;211\n",
      "heard;209\n",
      "round;208\n",
      "night;207\n",
      "merry;206\n",
      "sam;204\n",
      "never;203\n",
      "think;203\n",
      "road;201\n",
      "trees;195\n",
      "suddenly;194\n",
      "things;193\n",
      "hobbit;191\n",
      "began;190\n",
      "day;188\n",
      "say;187\n",
      "saw;181\n",
      "door;179\n",
      "strider;178\n",
      "side;177\n",
      "water;176\n",
      "right;173\n",
      "eyes;168\n"
     ]
    }
   ],
   "source": [
    "import matplotlib.pyplot as plt\n",
    "import nltk\n",
    "from nltk import FreqDist\n",
    "from nltk.corpus import stopwords\n",
    "\n",
    "nltk.download('punkt')\n",
    "nltk.download('stopwords')\n",
    "\n",
    "words = nltk.word_tokenize(EP1)\n",
    "stopwords_list = stopwords.words('english')\n",
    "custom_stopwords = ['said', 'one', 'two', 'three', 'put', 'get', 'got', 'let', 'going', 'upon', 'would', 'could', 'shall', 'may', 'must', 'yet', 'us', 'come', 'see', 'go', 'went', 'come', 'came', 'like', 'also', 'though', 'much', 'many', 'even', 'still', 'ever', 'well', 'back', 'without', 'around', 'looked']\n",
    "stopwords_list.extend(custom_stopwords)\n",
    "\n",
    "stopwords_set = set(stopwords_list)\n",
    "words = [word.lower() for word in words if word.isalpha() and word.lower() not in stopwords_set]\n",
    "\n",
    "fdist = FreqDist(words)\n",
    "for word, freq in fdist.most_common(50):\n",
    "    print(u'{};{}'.format(word, freq))"
   ]
  },
  {
   "cell_type": "markdown",
   "metadata": {},
   "source": [
    "#### Word Cloud of 3 Episodes"
   ]
  },
  {
   "cell_type": "code",
   "execution_count": null,
   "metadata": {},
   "outputs": [],
   "source": [
    "\n",
    "from wordcloud import WordCloud\n",
    "\n",
    "wordcloud = WordCloud(width=800, height=800, background_color='white', stopwords=stopwords_set).generate(EP1)\n",
    "\n",
    "plt.figure(figsize=(8, 8), facecolor=None)\n",
    "plt.imshow(wordcloud)\n",
    "plt.axis(\"off\")\n",
    "plt.tight_layout(pad=0)\n",
    "\n",
    "plt.show()"
   ]
  }
 ],
 "metadata": {
  "kernelspec": {
   "display_name": "env",
   "language": "python",
   "name": "python3"
  },
  "language_info": {
   "codemirror_mode": {
    "name": "ipython",
    "version": 3
   },
   "file_extension": ".py",
   "mimetype": "text/x-python",
   "name": "python",
   "nbconvert_exporter": "python",
   "pygments_lexer": "ipython3",
   "version": "3.10.7"
  }
 },
 "nbformat": 4,
 "nbformat_minor": 2
}
